{
 "cells": [
  {
   "cell_type": "code",
   "execution_count": 1,
   "metadata": {},
   "outputs": [],
   "source": [
    "import os\n",
    "import cv2\n",
    "import matplotlib.pyplot as plt"
   ]
  },
  {
   "cell_type": "code",
   "execution_count": 2,
   "metadata": {},
   "outputs": [],
   "source": [
    "def preprocess_train_images(img):\n",
    "    gray = cv2.cvtColor(img, cv2.COLOR_BGR2GRAY)\n",
    "    resized_img=cv2.resize(gray,(256,256))\n",
    "    return resized_img"
   ]
  },
  {
   "cell_type": "code",
   "execution_count": 3,
   "metadata": {},
   "outputs": [
    {
     "data": {
      "text/plain": [
       "['Daal-Bhat',\n",
       " 'Kathi-Roll',\n",
       " 'Laphing',\n",
       " 'Paani-Puri',\n",
       " 'Yomari',\n",
       " 'Chhoila',\n",
       " 'Mo:Mo']"
      ]
     },
     "execution_count": 3,
     "metadata": {},
     "output_type": "execute_result"
    }
   ],
   "source": [
    "os.listdir(\"../data/raw/\")"
   ]
  },
  {
   "cell_type": "code",
   "execution_count": 4,
   "metadata": {},
   "outputs": [],
   "source": [
    "for item in os.listdir('../data/raw'):\n",
    "    for c,img in enumerate(os.listdir(\"../data/raw/\"+item)):\n",
    "        img_path=\"../data/raw/\"+item+'/'+img\n",
    "        loaded_img=cv2.imread(img_path)\n",
    "        processed_img=preprocess_train_images(loaded_img)\n",
    "        saving_filename=\"item\"+str(c)+\".jpg\"\n",
    "        cv2.imwrite('../data/processed/'+item+\"/\"+saving_filename,processed_img)\n",
    "        \n",
    "        "
   ]
  },
  {
   "cell_type": "code",
   "execution_count": null,
   "metadata": {},
   "outputs": [],
   "source": []
  }
 ],
 "metadata": {
  "kernelspec": {
   "display_name": "Python 3.6.9 64-bit ('nina': venv)",
   "language": "python",
   "name": "python36964bitninavenva5b353ddc97c4892947860731b2c2368"
  },
  "language_info": {
   "codemirror_mode": {
    "name": "ipython",
    "version": 3
   },
   "file_extension": ".py",
   "mimetype": "text/x-python",
   "name": "python",
   "nbconvert_exporter": "python",
   "pygments_lexer": "ipython3",
   "version": "3.6.9"
  }
 },
 "nbformat": 4,
 "nbformat_minor": 4
}
